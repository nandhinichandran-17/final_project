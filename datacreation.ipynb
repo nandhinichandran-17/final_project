{
 "cells": [
  {
   "cell_type": "markdown",
   "id": "87b864a4-464c-472f-9602-0421ee547782",
   "metadata": {},
   "source": [
    "### PREDICTIVE ANALYTICS AND RECOMMENDATION SYSTEMS IN BANKING"
   ]
  },
  {
   "cell_type": "markdown",
   "id": "c98067e3-4a39-47ae-ae7a-5e7058e0b2cc",
   "metadata": {},
   "source": [
    "#### Project objective\n",
    "     This project is about predicting the Loan Defaults using Supervised Learning, Customer Segmentation using Unsupervised Learning and Recommending Bank Products through a Recommendation Engine."
   ]
  },
  {
   "cell_type": "code",
   "execution_count": 3,
   "id": "25d33100-daa6-4d78-9d46-78657839b6d0",
   "metadata": {},
   "outputs": [
    {
     "name": "stdout",
     "output_type": "stream",
     "text": [
      "Requirement already satisfied: faker in ./Downloads/anaconda3/lib/python3.12/site-packages (33.1.0)\n",
      "Requirement already satisfied: python-dateutil>=2.4 in ./Downloads/anaconda3/lib/python3.12/site-packages (from faker) (2.9.0.post0)\n",
      "Requirement already satisfied: typing-extensions in ./Downloads/anaconda3/lib/python3.12/site-packages (from faker) (4.11.0)\n",
      "Requirement already satisfied: six>=1.5 in ./Downloads/anaconda3/lib/python3.12/site-packages (from python-dateutil>=2.4->faker) (1.16.0)\n",
      "Note: you may need to restart the kernel to use updated packages.\n"
     ]
    }
   ],
   "source": [
    "pip install faker"
   ]
  },
  {
   "cell_type": "code",
   "execution_count": 10,
   "id": "0011d543-6d29-4eb8-a166-01e28e2565e9",
   "metadata": {},
   "outputs": [],
   "source": [
    "#imports libraries\n",
    "from faker import Faker\n",
    "import pandas as pd\n",
    "import numpy as np\n",
    "import random\n",
    "import warnings\n",
    "warnings.filterwarnings('ignore')\n",
    "import scipy.stats as stats"
   ]
  },
  {
   "cell_type": "markdown",
   "id": "7ec89d0f-9ac8-4304-8271-b5a4599b667a",
   "metadata": {},
   "source": [
    "### Data Collection"
   ]
  },
  {
   "cell_type": "code",
   "execution_count": 8,
   "id": "b1e28a5c-3789-4740-9cf0-b3ef0e536ce6",
   "metadata": {},
   "outputs": [
    {
     "name": "stdout",
     "output_type": "stream",
     "text": [
      "Data successfully saved\n"
     ]
    }
   ],
   "source": [
    "#generating synthetic data \n",
    "fake=Faker()\n",
    "\n",
    "loan_types=['Personal', 'Business', 'Education', 'Auto', 'Mortgage']\n",
    "\n",
    "product_names=['Savings Account', 'Checking Account', 'Credit Card', 'Personal Loan', 'Home Loan',\n",
    "    'Auto Loan', 'Business Loan', 'Student Loan', 'Investment Fund', 'Retirement Plan',\n",
    "    'Insurance Policy', 'Mutual Fund', 'Bond', 'Certificate of Deposit', 'Home Equity Line',\n",
    "    'Mortgage Refinance', 'Business Credit Line', 'Auto Refinance', 'Home Improvement Loan',\n",
    "    'Gold Loan', 'Cash Credit', 'Short-Term Loan', 'Long-Term Loan', 'Travel Loan',\n",
    "    'Medical Loan', 'Emergency Loan', 'Holiday Loan', 'Debt Consolidation Loan', 'Small Business Loan',\n",
    "    'Agricultural Loan', 'Technology Loan', 'Education Savings Plan', 'Wealth Management', \n",
    "    'Stock Investment', 'Real Estate Investment', 'International Investment', 'Fixed Deposit', \n",
    "    'Recurring Deposit', 'Loan Against Property', 'Gold Investment', 'Retirement Savings',\n",
    "    'High-Yield Savings Account', 'Money Market Account', 'Insurance Savings', 'Pension Plan',\n",
    "    'Child Education Fund', 'Healthcare Savings', 'Property Investment', 'Auto Insurance'\n",
    "]\n",
    "\n",
    "def data_col(n_records,n_customers=100,n_product=50,n_interactions=1000,csv_filename=\"dataset_revised1.CSV\"):\n",
    "    data=[]\n",
    "    cus_ids=[f\"C0{i+1}\" for i in range(n_customers)]\n",
    "    prod_ids=[f\"P0{i+1}\" for i in range(n_product)]\n",
    "\n",
    "    prod_id_to_name={prod_ids[i]: product_names[i % len(product_names)] for i in range(n_product)}\n",
    "\n",
    "    transaction_frequency = {cus_id: random.randint(1, 10) for cus_id in cus_ids}\n",
    "\n",
    "    for i in range(n_records):\n",
    "        Customer_Id=random.choice(cus_ids)\n",
    "        Age=random.randint(18,70)\n",
    "        Monthly_Income=round(random.uniform(20000,200000),2)\n",
    "        Credit_Score=random.randint(300,850)\n",
    "        Loan_Amount=round(random.uniform(100000,1000000),2)\n",
    "        Interest_Rate=round(random.uniform(1.0,15.0),2)\n",
    "        Loan_Term=random.choice([12,24,36,48,60])\n",
    "        Loan_Type=random.choice(loan_types)\n",
    "        Transaction_Id=fake.uuid4()\n",
    "        Gender=np.random.choice([\"Male\",\"Female\"])\n",
    "        Transaction_Amount=round(random.uniform(5,2000),2)\n",
    "        Transaction_Type=np.random.choice([\"Deposit\",\"Withdrawal\"])\n",
    "        Transaction_Date=fake.date_between(\"-1y\",\"now\")\n",
    "        Product_Id=random.choice(prod_ids)\n",
    "        Product_Name = prod_id_to_name[Product_Id]\n",
    "        Interaction_Type=np.random.choice([\"Purchased\",\"Viewed\",\"Clicked\"])\n",
    "        Interaction_Date=fake.date_between(\"-1y\",\"now\")\n",
    "\n",
    "        #derived fields\n",
    "        Debt_Income=Loan_Amount/Monthly_Income\n",
    "\n",
    "        if Credit_Score<580:\n",
    "            Credit_Score_Band=\"Poor\"\n",
    "        elif Credit_Score<670:\n",
    "            Credit_Score_Band=\"Fair\"\n",
    "        elif Credit_Score<740:\n",
    "            Credit_Score_Band=\"Good\"\n",
    "        else:\n",
    "            Credit_Score_Band=\"Excellent\"\n",
    "\n",
    "        default_probability = (700 - Credit_Score) / 400 + (50000 - Monthly_Income) / 100000\n",
    "        default_probability = min(max(default_probability, 0.05), 0.95)\n",
    "\n",
    "        Repayment_Status = np.random.binomial(1, default_probability)\n",
    "\n",
    "        Transaction_Date=pd.to_datetime(Transaction_Date)\n",
    "        Interaction_Date=pd.to_datetime(Interaction_Date)\n",
    "\n",
    "        Transaction_Year = Transaction_Date.year\n",
    "        Transaction_Month = Transaction_Date.month\n",
    "\n",
    "        Transaction_Frequency = transaction_frequency[Customer_Id]\n",
    "\n",
    "        Interaction_Year=Interaction_Date.year\n",
    "        Interaction_Day_Name=Interaction_Date.day_name()\n",
    "\n",
    "        data.append({\n",
    "            \"Customer_Id\": Customer_Id,\n",
    "            \"Age\": Age,\n",
    "            \"Monthly_Income\": Monthly_Income,\n",
    "            \"Credit_Score\": Credit_Score,\n",
    "            \"Credit_Score_Band\": Credit_Score_Band,\n",
    "            \"Loan_Amount\": Loan_Amount,\n",
    "            \"Interest_Rate\": Interest_Rate,\n",
    "            \"Loan_Term\": Loan_Term,\n",
    "            \"Loan_Type\": Loan_Type,\n",
    "            \"Debt_Income\": Debt_Income,\n",
    "            \"Repayment_Status\": Repayment_Status,\n",
    "            \"Transaction_Id\": Transaction_Id,\n",
    "            \"Gender\": Gender,\n",
    "            \"Transaction_Amount\": Transaction_Amount,\n",
    "            \"Transaction_Type\": Transaction_Type,\n",
    "            \"Transaction_Date\": Transaction_Date,\n",
    "            \"Transaction_Year\": Transaction_Year,\n",
    "            \"Transaction_Month\": Transaction_Month,\n",
    "            \"Product_Id\": Product_Id,\n",
    "            \"Product_Name\": Product_Name,\n",
    "            \"Interaction_Date\": Interaction_Date,\n",
    "            \"Interaction_Year\": Interaction_Year,\n",
    "            \"Interaction_Day_Name\": Interaction_Day_Name,\n",
    "            \"Interaction_Type\": Interaction_Type,\n",
    "            \"Transaction_Frequency\": Transaction_Frequency\n",
    "        })\n",
    "\n",
    "    df = pd.DataFrame(data)\n",
    "    df.to_csv(csv_filename,index=False)\n",
    "    print(\"Data successfully saved\")\n",
    "\n",
    "data_col(n_records=1000, n_customers=100, n_product=50, n_interactions=1000, csv_filename=\"/Users/nandhinichandran/Downloads/Finalproject/dataset.csv\")           \n"
   ]
  },
  {
   "cell_type": "code",
   "execution_count": null,
   "id": "ff76ec92-a8b9-4a5f-801b-0599d3aa5654",
   "metadata": {},
   "outputs": [],
   "source": []
  }
 ],
 "metadata": {
  "kernelspec": {
   "display_name": "Python 3 (ipykernel)",
   "language": "python",
   "name": "python3"
  },
  "language_info": {
   "codemirror_mode": {
    "name": "ipython",
    "version": 3
   },
   "file_extension": ".py",
   "mimetype": "text/x-python",
   "name": "python",
   "nbconvert_exporter": "python",
   "pygments_lexer": "ipython3",
   "version": "3.12.4"
  }
 },
 "nbformat": 4,
 "nbformat_minor": 5
}
